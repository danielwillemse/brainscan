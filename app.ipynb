{
 "cells": [
  {
   "cell_type": "code",
   "execution_count": 1,
   "id": "3a2cde4c-38bd-4d76-9077-40b21824213d",
   "metadata": {},
   "outputs": [],
   "source": [
    "import statistics\n",
    "import gradio as gr\n",
    "import os\n",
    "import json\n",
    "import cv2    \n",
    "\n",
    "import torch\n",
    "assert torch.cuda.is_available(), \"CUDA not available\"\n",
    "import ultralytics\n",
    "from ultralytics import YOLO, settings"
   ]
  },
  {
   "cell_type": "code",
   "execution_count": 2,
   "id": "19713cbc-fe5d-4e3f-a942-a7e0c9d8c58b",
   "metadata": {},
   "outputs": [],
   "source": [
    "weights = \"runs/detect/train15/weights/best.pt\"\n",
    "model = YOLO(weights, task=\"detect\")"
   ]
  },
  {
   "cell_type": "code",
   "execution_count": 3,
   "id": "7ab7cd2b-88bf-4eb9-b5f4-9fdfb43576b6",
   "metadata": {},
   "outputs": [],
   "source": [
    "def flip_image(image):\n",
    "    return [\n",
    "        image,\n",
    "        cv2.flip(image, 0),\n",
    "        cv2.flip(image, 1),\n",
    "        cv2.flip(cv2.flip(image, 1), 0),\n",
    "    ]\n",
    "\n",
    "def pred_to_image(pred):\n",
    "    img_path = os.path.join(pred.save_dir, pred.path)\n",
    "    img = cv2.imread(img_path)\n",
    "    img = cv2.cvtColor(img, cv2.COLOR_BGR2RGB)\n",
    "\n",
    "    return img\n",
    "\n",
    "def preds_to_scores(predictions):\n",
    "    scores_list = [[],[]] # [negatives, positives]\n",
    "    \n",
    "    for pred in (predictions):\n",
    "        if len(pred.boxes) > 0:\n",
    "            for box in pred.boxes:\n",
    "                scores_list[int(box.cls)].append(float(box.conf))\n",
    "\n",
    "    views = int(len(predictions) / 2)\n",
    "\n",
    "    print(scores_list)\n",
    "    neg_count = len(scores_list[0])\n",
    "    neg_max = max(scores_list[0], default=0.0)\n",
    "    neg_avg = 0 if neg_count == 0 else statistics.mean(scores_list[0])\n",
    "\n",
    "    print(f'\\nC:\\n{neg_count}\\nV:\\n{views}\\nM:\\n{neg_max}')\n",
    "    neg_weighted_avg = (neg_count / views) * neg_max\n",
    "\n",
    "    pos_count = len(scores_list[1])\n",
    "    pos_max = max(scores_list[1], default=0.0)\n",
    "    pos_avg = 0 if pos_count == 0 else statistics.mean(scores_list[1])\n",
    "    pos_weighted_avg = (pos_count / views) * pos_max\n",
    "\n",
    "    diagnosis = 1 if pos_max > 0.25 or pos_count >= min(2, views) else 0\n",
    "    \n",
    "    return {\n",
    "        'views': views,\n",
    "        'neg_count': neg_count,\n",
    "        'neg_max': neg_max,\n",
    "        'neg_avg': neg_avg,\n",
    "        'neg_weighted_avg': neg_weighted_avg,\n",
    "        'pos_count': pos_count,\n",
    "        'pos_max': pos_max,\n",
    "        'pos_avg': pos_avg,\n",
    "        'pos_weighted_avg': pos_weighted_avg,\n",
    "        'diagnosis': diagnosis\n",
    "    }\n",
    "\n",
    "def multi_step_inference(model, image, conf_neg, conf_pos, proj):\n",
    "    images = flip_image(image)\n",
    "\n",
    "    negatives = model.predict(images, conf=conf_neg, classes=[0], iou=0.4, save=True, project=proj, name='negatives')\n",
    "    positives = model.predict(images, conf=conf_pos, classes=[1], iou=0.4, save=True, project=proj, name='positives')\n",
    "\n",
    "    results = negatives + positives\n",
    "    scores = preds_to_scores(results)\n",
    "\n",
    "    imgs = [pred_to_image(pred) for pred in results]\n",
    "\n",
    "    return (imgs, scores)"
   ]
  },
  {
   "cell_type": "code",
   "execution_count": 4,
   "id": "6ef38365-02b0-4e90-884c-4bf452fe3338",
   "metadata": {},
   "outputs": [],
   "source": [
    "def diagnose_patient(upload_filepath, conf_neg, conf_pos):\n",
    "    image = cv2.imread(upload_filepath)\n",
    "    image = cv2.cvtColor(image, cv2.COLOR_BGR2RGB)\n",
    "\n",
    "    (images, scores) = multi_step_inference(model, image, conf_neg, conf_pos, \"runs/detect/final\")\n",
    "\n",
    "    diagnosis = [\n",
    "        \"Congratulations, no tumor was detected!\",\n",
    "        \"Unfortunately, we found a tumor :(\"\n",
    "    ][scores[\"diagnosis\"]]\n",
    "    return [\n",
    "        scores,\n",
    "        diagnosis,\n",
    "        images[:int(len(images) / 2)],\n",
    "        images[int(len(images) / 2):]\n",
    "    ]\n",
    "\n",
    "with gr.Blocks(fill_height=True) as app:\n",
    "    gr.Markdown(\"Get your free diagnosis here!\")\n",
    "\n",
    "    with gr.Row(equal_height=True):\n",
    "        with gr.Column():\n",
    "            upload = gr.File(label=\"Upload an MRI of your brain\")\n",
    "\n",
    "            conf_neg = gr.Slider(0, 1, value=0.5, label=\"Neg conf\")\n",
    "            conf_pos = gr.Slider(0, 1, value=0.25, label=\"Pos conf\")\n",
    "\n",
    "            btn = gr.Button(value=\"Scan\")\n",
    "\n",
    "        with gr.Column():\n",
    "            scores = gr.Textbox(label=\"Scores\")\n",
    "            diagnosis = gr.Textbox(label=\"Diagnosis\")\n",
    "    with gr.Row(equal_height=True):\n",
    "        with gr.Column():\n",
    "\n",
    "            neg_gallery = gr.Gallery(\n",
    "                label=\"Looking for negatives\",\n",
    "                columns=[2],\n",
    "                rows=[2],\n",
    "                object_fit=\"contain\",\n",
    "                height=\"auto\"\n",
    "            )\n",
    "            \n",
    "        with gr.Column():\n",
    "            pos_gallery = gr.Gallery(\n",
    "                label=\"Looking for positives\",\n",
    "                columns=[2],\n",
    "                rows=[2],\n",
    "                object_fit=\"contain\",\n",
    "                height=\"auto\"\n",
    "            )\n",
    "\n",
    "    \n",
    "    btn.click(\n",
    "        fn=diagnose_patient,\n",
    "        inputs=[upload, conf_neg, conf_pos],\n",
    "        outputs=[scores, diagnosis, neg_gallery, pos_gallery]\n",
    "    )    \n"
   ]
  },
  {
   "cell_type": "code",
   "execution_count": 5,
   "id": "8d5eff6c-3c12-45de-b6a1-b618a5e90f9c",
   "metadata": {},
   "outputs": [
    {
     "name": "stdout",
     "output_type": "stream",
     "text": [
      "* Running on local URL:  http://127.0.0.1:7862\n",
      "\n",
      "To create a public link, set `share=True` in `launch()`.\n"
     ]
    },
    {
     "data": {
      "text/html": [
       "<div><iframe src=\"http://127.0.0.1:7862/\" width=\"100%\" height=\"500\" allow=\"autoplay; camera; microphone; clipboard-read; clipboard-write;\" frameborder=\"0\" allowfullscreen></iframe></div>"
      ],
      "text/plain": [
       "<IPython.core.display.HTML object>"
      ]
     },
     "metadata": {},
     "output_type": "display_data"
    },
    {
     "data": {
      "text/plain": []
     },
     "execution_count": 5,
     "metadata": {},
     "output_type": "execute_result"
    }
   ],
   "source": [
    "app.launch()"
   ]
  },
  {
   "cell_type": "code",
   "execution_count": null,
   "id": "792a49bc-848c-4918-be0e-7024a9c59361",
   "metadata": {},
   "outputs": [],
   "source": []
  }
 ],
 "metadata": {
  "kernelspec": {
   "display_name": "Python 3 (ipykernel)",
   "language": "python",
   "name": "python3"
  },
  "language_info": {
   "codemirror_mode": {
    "name": "ipython",
    "version": 3
   },
   "file_extension": ".py",
   "mimetype": "text/x-python",
   "name": "python",
   "nbconvert_exporter": "python",
   "pygments_lexer": "ipython3",
   "version": "3.11.8"
  }
 },
 "nbformat": 4,
 "nbformat_minor": 5
}
